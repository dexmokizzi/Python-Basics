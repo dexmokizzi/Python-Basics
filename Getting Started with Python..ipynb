{
 "cells": [
  {
   "cell_type": "markdown",
   "metadata": {},
   "source": [
    "# Python Basics"
   ]
  },
  {
   "cell_type": "markdown",
   "metadata": {},
   "source": [
    "Python codes get executed line by line from the top. Done by the python interpreter. Here I printed \"Hello Word\" and an imaginery dog below it."
   ]
  },
  {
   "cell_type": "code",
   "execution_count": 5,
   "metadata": {},
   "outputs": [
    {
     "name": "stdout",
     "output_type": "stream",
     "text": [
      "Hello world\n",
      "o----\n",
      " ||||\n"
     ]
    }
   ],
   "source": [
    "print(\"Hello world\")\n",
    "print(\"o----\")\n",
    "print(\" ||||\")"
   ]
  },
  {
   "cell_type": "markdown",
   "metadata": {},
   "source": [
    "Here, I multiplied an asteric by 10 to get 10 asterics. This is called an expression, an expression is a piece of code that produces a value."
   ]
  },
  {
   "cell_type": "code",
   "execution_count": 6,
   "metadata": {},
   "outputs": [
    {
     "name": "stdout",
     "output_type": "stream",
     "text": [
      "**********\n"
     ]
    }
   ],
   "source": [
    "print(\"*\"*10)"
   ]
  },
  {
   "cell_type": "markdown",
   "metadata": {},
   "source": [
    "# Variables "
   ]
  },
  {
   "cell_type": "markdown",
   "metadata": {},
   "source": [
    "Variables are used to temporarily store data in the computer's memory."
   ]
  },
  {
   "cell_type": "code",
   "execution_count": 9,
   "metadata": {},
   "outputs": [],
   "source": [
    "#INT -> 10\n",
    "#FLOATS -> 10.5\n",
    "#STRINGS -> \"Boy\"\n",
    "#Booleans -> True/False\n",
    "#Python is case sensitive\n",
    "\n",
    "price = 10\n",
    "price = 20"
   ]
  },
  {
   "cell_type": "code",
   "execution_count": 10,
   "metadata": {},
   "outputs": [
    {
     "name": "stdout",
     "output_type": "stream",
     "text": [
      "20\n"
     ]
    }
   ],
   "source": [
    "print(price)"
   ]
  },
  {
   "cell_type": "markdown",
   "metadata": {},
   "source": [
    "\n",
    "### Exercise"
   ]
  },
  {
   "cell_type": "code",
   "execution_count": 12,
   "metadata": {},
   "outputs": [],
   "source": [
    "full_name = \"John\"\n",
    "age = 20\n",
    "new_patient = True"
   ]
  },
  {
   "cell_type": "markdown",
   "metadata": {},
   "source": [
    "# Getting Inputs"
   ]
  },
  {
   "cell_type": "markdown",
   "metadata": {},
   "source": [
    "Both input & print are functions that are built into python. We will use the input function to receive messages from a user. The  input fuction will print this message on the terminal and then wait for the user to enter a value. Whatever the user enters, this input function will return. Now we can get the result and store it in a varible called name. Here is another example of an expression."
   ]
  },
  {
   "cell_type": "code",
   "execution_count": 17,
   "metadata": {},
   "outputs": [
    {
     "name": "stdout",
     "output_type": "stream",
     "text": [
      "What is your name? John\n",
      "Hi John\n"
     ]
    }
   ],
   "source": [
    "name = input(\"What is your name? \")\n",
    "print(\"Hi \" + name)"
   ]
  },
  {
   "cell_type": "markdown",
   "metadata": {},
   "source": [
    "### Input Exercise"
   ]
  },
  {
   "cell_type": "code",
   "execution_count": 21,
   "metadata": {},
   "outputs": [
    {
     "name": "stdout",
     "output_type": "stream",
     "text": [
      "What is your name? Demola\n",
      "What is your favourite colour? Green\n",
      "Demola likes Green\n"
     ]
    }
   ],
   "source": [
    "name = input(\"What is your name? \")\n",
    "colour = input(\"What is your favourite colour? \")\n",
    "print(f\"{name} likes {colour}\")"
   ]
  },
  {
   "cell_type": "markdown",
   "metadata": {},
   "source": [
    "# Type Conversion"
   ]
  },
  {
   "cell_type": "markdown",
   "metadata": {},
   "source": [
    "This program will ask the year you were born and calculate your age and then print it on the terminal."
   ]
  },
  {
   "cell_type": "code",
   "execution_count": 25,
   "metadata": {},
   "outputs": [
    {
     "name": "stdout",
     "output_type": "stream",
     "text": [
      "Birth Year: 2000\n",
      "Your are 21 year old\n"
     ]
    }
   ],
   "source": [
    "birth_year = int(input(\"Birth Year: \"))\n",
    "age = 2021 - birth_year\n",
    "print(f\"Your are {age} year old\")"
   ]
  },
  {
   "cell_type": "markdown",
   "metadata": {},
   "source": [
    "### Type Conversion Exercise"
   ]
  },
  {
   "cell_type": "markdown",
   "metadata": {},
   "source": [
    "This programme askes a user for their weight (in pounds) and convert it to kg. "
   ]
  },
  {
   "cell_type": "code",
   "execution_count": 36,
   "metadata": {},
   "outputs": [
    {
     "name": "stdout",
     "output_type": "stream",
     "text": [
      "What is your weight in pounds? 160\n",
      "Your weight in Kg is: 72.07\n"
     ]
    }
   ],
   "source": [
    "weight = float(input(\"What is your weight in pounds? \"))\n",
    "kg = round((weight / 2.22),2)\n",
    "print(f\"Your weight in Kg is: {kg}\")"
   ]
  },
  {
   "cell_type": "markdown",
   "metadata": {},
   "source": [
    "# Strings"
   ]
  },
  {
   "cell_type": "code",
   "execution_count": 1,
   "metadata": {},
   "outputs": [],
   "source": [
    "course = \"Python's course for Beginners\"\n",
    "courses = 'Python for \"beginners\"'\n",
    "\n",
    "# multiple line string\n",
    "\n",
    "multi = \"\"\" \n",
    "Hi John,\n",
    "\n",
    "Here's our first email to you\n",
    "\n",
    "Thank you,\n",
    "\n",
    "Your Support team.\n",
    "\"how have you been?\"\n",
    "\"\"\""
   ]
  },
  {
   "cell_type": "code",
   "execution_count": 2,
   "metadata": {},
   "outputs": [
    {
     "name": "stdout",
     "output_type": "stream",
     "text": [
      "Python's course for Beginners\n",
      "Python for \"beginners\"\n",
      " \n",
      "Hi John,\n",
      "\n",
      "Here's our first email to you\n",
      "\n",
      "Thank you,\n",
      "\n",
      "Your Support team.\n",
      "\"how have you been?\"\n",
      "\n"
     ]
    }
   ],
   "source": [
    "print(course)\n",
    "print(courses)\n",
    "print(multi)"
   ]
  },
  {
   "cell_type": "code",
   "execution_count": 65,
   "metadata": {},
   "outputs": [],
   "source": [
    "coursename = \"Python for beginners\"\n",
    "another = coursename[:]"
   ]
  },
  {
   "cell_type": "code",
   "execution_count": 67,
   "metadata": {},
   "outputs": [
    {
     "name": "stdout",
     "output_type": "stream",
     "text": [
      "Python f\n",
      "Python for beginners\n"
     ]
    }
   ],
   "source": [
    "print(coursename[0:8])\n",
    "print(another)"
   ]
  },
  {
   "cell_type": "code",
   "execution_count": 69,
   "metadata": {},
   "outputs": [
    {
     "name": "stdout",
     "output_type": "stream",
     "text": [
      "eniffe\n"
     ]
    }
   ],
   "source": [
    "name = \"jeniffer\"\n",
    "print(name[1:-1])"
   ]
  },
  {
   "cell_type": "markdown",
   "metadata": {},
   "source": [
    "### Formatted Strings"
   ]
  },
  {
   "cell_type": "code",
   "execution_count": 73,
   "metadata": {},
   "outputs": [],
   "source": [
    "first = \"John\"\n",
    "last = \"Smith\"\n",
    "message = f\"{first} [{last}] is a coder\""
   ]
  },
  {
   "cell_type": "code",
   "execution_count": 74,
   "metadata": {},
   "outputs": [
    {
     "name": "stdout",
     "output_type": "stream",
     "text": [
      "John [Smith] is a coder\n"
     ]
    }
   ],
   "source": [
    "print(message)"
   ]
  },
  {
   "cell_type": "markdown",
   "metadata": {},
   "source": [
    "### String Methods"
   ]
  },
  {
   "cell_type": "markdown",
   "metadata": {},
   "source": [
    "Let us see the cool things we can do with python strings"
   ]
  },
  {
   "cell_type": "code",
   "execution_count": 76,
   "metadata": {},
   "outputs": [],
   "source": [
    "course = \"Python for beginners\""
   ]
  },
  {
   "cell_type": "code",
   "execution_count": 96,
   "metadata": {},
   "outputs": [
    {
     "name": "stdout",
     "output_type": "stream",
     "text": [
      "20\n",
      "PYTHON FOR BEGINNERS\n",
      "python for beginners\n",
      "Python for beginners\n",
      "11\n",
      "Python for absolute beginners\n",
      "False\n"
     ]
    }
   ],
   "source": [
    "#Len is a general purpose fucntion, it is used to count the number of characters in stings\n",
    "print(len(course))\n",
    "\n",
    "#When a function belongs to something else or is specific some kind of object, it is a method. for example Upper is used\n",
    "#convert strings to upper case, so it is specific to string. Then it is a method.\n",
    "print(course.upper())\n",
    "print(course.lower())\n",
    "print(course.capitalize())\n",
    "\n",
    "#When we want to find a character or a sequence of character in a string. In such situations, we can use the find method.\n",
    "#The find method returns the index of the first occurence of that character\n",
    "#The find method is case sensitive\n",
    "print(course.find(\"beginners\"))\n",
    "\n",
    "#We also have a method for characters or a seqeunce of characters which is the replace method\n",
    "print(course.replace(\"beginners\", \"absolute beginners\"))\n",
    "\n",
    "#To check the existence of a character or sequence of characters we us the in key, it returns a boolean value.\n",
    "print(\"python\" in course)\n",
    "\n",
    "#The difference between the in operator and find  method is that the find method returns index of tha character\n",
    "#or sequence of characters but the in operator returns a boolean value."
   ]
  },
  {
   "cell_type": "markdown",
   "metadata": {},
   "source": [
    "# Arithmetic Operators"
   ]
  },
  {
   "cell_type": "code",
   "execution_count": 107,
   "metadata": {},
   "outputs": [
    {
     "name": "stdout",
     "output_type": "stream",
     "text": [
      "13\n",
      "7\n",
      "3.3333333333333335\n",
      "3\n",
      "1\n",
      "100\n"
     ]
    }
   ],
   "source": [
    "print(10 + 3)\n",
    "print(10 - 3)\n",
    "print(10 / 3) #Returns a bolean value\n",
    "print(10 // 3) #Return an interger\n",
    "print(10 % 3) #Returns the remainder\n",
    "print(10 ** 2) #Return the power"
   ]
  },
  {
   "cell_type": "markdown",
   "metadata": {},
   "source": [
    "### Augmented Assignment Operator"
   ]
  },
  {
   "cell_type": "code",
   "execution_count": 116,
   "metadata": {},
   "outputs": [
    {
     "name": "stdout",
     "output_type": "stream",
     "text": [
      "13\n",
      "7\n"
     ]
    }
   ],
   "source": [
    "x = 10\n",
    "x += 3\n",
    "print(x)\n",
    "\n",
    "y = 10\n",
    "y -= 3\n",
    "print(y)"
   ]
  },
  {
   "cell_type": "markdown",
   "metadata": {},
   "source": [
    "### Operator Precedence "
   ]
  },
  {
   "cell_type": "code",
   "execution_count": 3,
   "metadata": {},
   "outputs": [
    {
     "name": "stdout",
     "output_type": "stream",
     "text": [
      "16\n",
      "22\n",
      "15\n"
     ]
    }
   ],
   "source": [
    "x = 10 + 3 * 2\n",
    "print(x)\n",
    "\n",
    "y = 10 + 3 * 2 ** 2\n",
    "print(y)\n",
    "\n",
    "#We can use parenthesis to change the order of operation\n",
    "xy = 10 + (2 + 6) - 3\n",
    "print(xy)"
   ]
  },
  {
   "cell_type": "markdown",
   "metadata": {},
   "source": [
    "### Math Functions"
   ]
  },
  {
   "cell_type": "code",
   "execution_count": 5,
   "metadata": {},
   "outputs": [
    {
     "name": "stdout",
     "output_type": "stream",
     "text": [
      "3\n",
      "20\n"
     ]
    }
   ],
   "source": [
    "x = 2.9\n",
    "print(round(x))\n",
    "\n",
    "#abs is short form for absolute, absolue alway return a positive number.\n",
    "print(abs(-20))"
   ]
  },
  {
   "cell_type": "markdown",
   "metadata": {},
   "source": [
    "In python we have a hand full of built-in functions for performing mathematical operations. If you want to write a programme that involves complex mathematical calculations you need to import the math module. A module in python is a seperate file with some re-usable code, we use these modules to organize our codes into different files.\n",
    "\n",
    "For example think of a supermarket, when you go to a supermarket you see different sections for fruits and vegetables, cleaning products, junk food and so on. Each section in a super market is like a module in python. In python we have this math module which contains a bunch of re-useable functions for performing mathematical calculations. See below how to use this module."
   ]
  },
  {
   "cell_type": "code",
   "execution_count": 8,
   "metadata": {},
   "outputs": [
    {
     "name": "stdout",
     "output_type": "stream",
     "text": [
      "3\n",
      "2\n"
     ]
    }
   ],
   "source": [
    "import math\n",
    "#Math is an object so we can access its functions using the . operator\n",
    "print(math.ceil(2.9))\n",
    "\n",
    "print(math.floor(2.9))\n",
    "\n",
    "#For you to learn more about the math module on your own, open up your browser and search for\n",
    "#Python 3 math module and use the first link to access the documentation. You will see the list of all the\n",
    "#functions and their explaination. Spend time to take a look at the functions. "
   ]
  },
  {
   "cell_type": "markdown",
   "metadata": {},
   "source": [
    "# IF Statements"
   ]
  },
  {
   "cell_type": "markdown",
   "metadata": {},
   "source": [
    "IF statements are extremely important in programming. They allow us to build programmes based on some conditions, so if some condition is true it going to print out certain things otherwise it going to print out other things."
   ]
  },
  {
   "cell_type": "code",
   "execution_count": 19,
   "metadata": {},
   "outputs": [
    {
     "name": "stdout",
     "output_type": "stream",
     "text": [
      "It's a cold day\n",
      "Wear warm clothes\n",
      "Enjoy your day.\n"
     ]
    }
   ],
   "source": [
    "# For example:\n",
    "# if it is a hot day:\n",
    "#     It's a hot day\n",
    "#     Drink plenty of water\n",
    "# otherwise:\n",
    "#     It's a cold day\n",
    "#     Wear warm cloth\n",
    "# Otherwise:\n",
    "#     It's a lovely day\n",
    "\n",
    "#Here is a programme that stimulates the above rules.\n",
    "is_hot = False\n",
    "is_cold = True\n",
    "\n",
    "if is_hot:\n",
    "    print(\"It's a hot day\")\n",
    "    print(\"Drink plenty of water\")\n",
    "elif is_cold:\n",
    "    print(\"It's a cold day\")\n",
    "    print(\"Wear warm clothes\")    \n",
    "else:\n",
    "    print(\"It is a lovely day\")\n",
    "print(\"Enjoy your day.\")"
   ]
  },
  {
   "cell_type": "markdown",
   "metadata": {},
   "source": [
    "### IF Statement Excercise"
   ]
  },
  {
   "cell_type": "code",
   "execution_count": 33,
   "metadata": {},
   "outputs": [
    {
     "name": "stdout",
     "output_type": "stream",
     "text": [
      "Your down payment is: $200000.0\n"
     ]
    }
   ],
   "source": [
    "price = 1000000\n",
    "good_credit = False\n",
    "\n",
    "if good_credit:\n",
    "    down_payment = (price * 0.10)\n",
    "else:\n",
    "    down_payment = (price * 0.20)\n",
    "\n",
    "print(f\"Your down payment is: ${down_payment}\")"
   ]
  },
  {
   "cell_type": "markdown",
   "metadata": {},
   "source": [
    "### Logical Operators"
   ]
  },
  {
   "cell_type": "markdown",
   "metadata": {},
   "source": [
    "We use these operators in situations where we have multiple conditions. Let us assume we are building an application for processing loans, if an applicant has high income and good credit then they are eligible for a loan. In this example we have 2 conditions, one is high income and the other is good credits. So if both conditions are true, it means the applicant is eligible for a loan. This is where we use the logical AND operator. The operator is used to combine 2 or more conditions. Check out the example below."
   ]
  },
  {
   "cell_type": "code",
   "execution_count": 45,
   "metadata": {},
   "outputs": [
    {
     "name": "stdout",
     "output_type": "stream",
     "text": [
      "Eligible for loan!\n",
      "Eligible for loan!\n"
     ]
    }
   ],
   "source": [
    "has_high_income = True\n",
    "has_good_credit = False\n",
    "\n",
    "if has_high_income and has_good_credit:\n",
    "    print(\"Eligible for loan!\")\n",
    "    \n",
    "#We also have the OR operator.\n",
    "if has_high_income or has_good_credit:\n",
    "    print(\"Eligible for loan!\")\n",
    "    \n",
    "#We also have the NOT operator\n",
    "has_good_credit = True\n",
    "has_criminal_record = False\n",
    "\n",
    "if has_good_credit and not has_criminal_record:\n",
    "    print(\"Eligible for loan!\")"
   ]
  },
  {
   "cell_type": "markdown",
   "metadata": {},
   "source": [
    "### Comparison Operators"
   ]
  },
  {
   "cell_type": "markdown",
   "metadata": {},
   "source": [
    "We use comparison operators in situations where we want to compare a variable with a value. ==, >, <, =<, =>, !=. For example"
   ]
  },
  {
   "cell_type": "code",
   "execution_count": 60,
   "metadata": {},
   "outputs": [
    {
     "name": "stdout",
     "output_type": "stream",
     "text": [
      "It's a hot day\n"
     ]
    }
   ],
   "source": [
    "# if temperature is greater than 30\n",
    "#     it's a hot day\n",
    "# otherwise if it's less than 10\n",
    "#     it's a cold day\n",
    "# otherwise\n",
    "#     it's neither hot nor cold\n",
    "\n",
    "#Here is a programme that stimulates the above rules.\n",
    "temperature = 35\n",
    "\n",
    "if temperature >= 30:\n",
    "    print(\"It's a hot day\")\n",
    "elif temperature <= 10:\n",
    "    print(\"It's a cold day\")\n",
    "else:\n",
    "    print(\"It's neither hot nor cold\")"
   ]
  },
  {
   "cell_type": "markdown",
   "metadata": {},
   "source": [
    "### IF Statement Exercise"
   ]
  },
  {
   "cell_type": "code",
   "execution_count": 65,
   "metadata": {},
   "outputs": [
    {
     "name": "stdout",
     "output_type": "stream",
     "text": [
      "What is your name? demola\n",
      "Looks good!\n"
     ]
    }
   ],
   "source": [
    "name = input(\"What is your name? \")\n",
    "\n",
    "if len(name)<3:\n",
    "    print(\"Name must be at least 3 characters!\")\n",
    "elif len(name)>50:\n",
    "    print(\"Name must be less than 50 characters!\")\n",
    "else:\n",
    "    print(\"Looks good!\")"
   ]
  },
  {
   "cell_type": "markdown",
   "metadata": {},
   "source": [
    "## PROJECT (Weight Converter)"
   ]
  },
  {
   "cell_type": "markdown",
   "metadata": {},
   "source": [
    "This program askes a user for their weight and allows them to specify if the value of the weight is in pound or kilogram and then converts the value of the weight to pound if the value inputed is in kilogram and vice versa."
   ]
  },
  {
   "cell_type": "code",
   "execution_count": 18,
   "metadata": {},
   "outputs": [
    {
     "name": "stdout",
     "output_type": "stream",
     "text": [
      "Weight: 160\n",
      "(L)b or (K)g: l\n",
      "You are 72.0 kilos\n"
     ]
    }
   ],
   "source": [
    "weight = int(input(\"Weight: \"))\n",
    "unit = input(\"(L)b or (K)g: \")\n",
    "\n",
    "if unit.upper() == \"L\":\n",
    "    converter = weight * 0.45\n",
    "    print(f\"You are {coverter} kilos\")\n",
    "else:\n",
    "    converter = weight/0.45\n",
    "    print(f\"You are {coverter} pounds\")"
   ]
  },
  {
   "cell_type": "markdown",
   "metadata": {},
   "source": [
    "# While Loops"
   ]
  },
  {
   "cell_type": "markdown",
   "metadata": {},
   "source": [
    "While Loops are used to execute a block of codes multiple times, they are often useful to build interactive programmes and games."
   ]
  },
  {
   "cell_type": "code",
   "execution_count": 24,
   "metadata": {},
   "outputs": [
    {
     "name": "stdout",
     "output_type": "stream",
     "text": [
      "*\n",
      "**\n",
      "***\n",
      "****\n",
      "*****\n",
      "Done!\n"
     ]
    }
   ],
   "source": [
    "# while condition:\n",
    "#    ...\n",
    "# As long as the condition in the loop is true, the code written in the loop will be executed continously.\n",
    "\n",
    "#Example\n",
    "\n",
    "i = 1\n",
    "while i <=5:\n",
    "    print(\"*\" * i)\n",
    "    i += 1\n",
    "print(\"Done!\")"
   ]
  },
  {
   "cell_type": "markdown",
   "metadata": {},
   "source": [
    "### Guessing Game"
   ]
  },
  {
   "cell_type": "code",
   "execution_count": 3,
   "metadata": {},
   "outputs": [
    {
     "name": "stdout",
     "output_type": "stream",
     "text": [
      "Guess: 2\n",
      "Guess: 8\n",
      "You win!\n"
     ]
    }
   ],
   "source": [
    "secret_number = 8\n",
    "guess_count = 0\n",
    "guess_limit = 2\n",
    "while guess_count <= guess_limit:\n",
    "    guess = int(input(\"Guess: \"))\n",
    "    guess_count += 1\n",
    "    if guess == secret_number:\n",
    "        print(\"You win!\")\n",
    "        break\n",
    "else:\n",
    "    print(\"Sorry, you loose!\")"
   ]
  },
  {
   "cell_type": "markdown",
   "metadata": {},
   "source": [
    "### Car Game"
   ]
  },
  {
   "cell_type": "code",
   "execution_count": 6,
   "metadata": {},
   "outputs": [
    {
     "name": "stdout",
     "output_type": "stream",
     "text": [
      "> help\n",
      "\n",
      "Start - to start car\n",
      "Stop - to stop car\n",
      "quit - to quit\n",
      "        \n",
      "> start\n",
      "Car started\n",
      "> start\n",
      "Car is already started...\n",
      "> stop\n",
      "Car stopped\n",
      "> stop\n",
      "Car is already stopped...\n",
      "> quit\n"
     ]
    }
   ],
   "source": [
    "command = \"\"\n",
    "started = False\n",
    "while True:\n",
    "    command = input(\"> \").lower()\n",
    "    if command == \"start\":\n",
    "        if started:\n",
    "            print(\"Car is already started...\")\n",
    "        else:\n",
    "            started = True\n",
    "            print(\"Car started\")\n",
    "    elif command == \"stop\":\n",
    "        if not started:\n",
    "            print(\"Car is already stopped...\")\n",
    "        else:\n",
    "            started = False\n",
    "            print(\"Car stopped\")\n",
    "    elif command == \"help\":\n",
    "        print(\"\"\"\n",
    "Start - to start car\n",
    "Stop - to stop car\n",
    "quit - to quit\n",
    "        \"\"\")\n",
    "    elif command == \"quit\":\n",
    "        break\n",
    "    else:\n",
    "        print(\"Sorry, I don't understand that\")"
   ]
  },
  {
   "cell_type": "markdown",
   "metadata": {},
   "source": [
    "# For Loops"
   ]
  },
  {
   "cell_type": "markdown",
   "metadata": {},
   "source": [
    "For loops are used to iterate over items of collection such as strings. Strings are sequence of characters so it looks like a collection."
   ]
  },
  {
   "cell_type": "code",
   "execution_count": null,
   "metadata": {},
   "outputs": [],
   "source": [
    "for item in \"Python \":\n",
    "    print(item)\n",
    "    \n",
    "for names in [\"demola\", \"bola\", \"kola\", \" \"]:\n",
    "    print(names)\n",
    "    \n",
    "for numbers in [1,2,3,4,5,6,7, ]:\n",
    "    print(numbers)\n",
    "    \n",
    "for numbers in range(10):\n",
    "    print(numbers)"
   ]
  },
  {
   "cell_type": "markdown",
   "metadata": {},
   "source": [
    "### For Loop Excercise"
   ]
  },
  {
   "cell_type": "code",
   "execution_count": 52,
   "metadata": {},
   "outputs": [
    {
     "name": "stdout",
     "output_type": "stream",
     "text": [
      "60\n"
     ]
    }
   ],
   "source": [
    "prices = [10, 20, 30]\n",
    "sum = 0\n",
    "for price in prices:\n",
    "    sum += price\n",
    "print(sum)"
   ]
  },
  {
   "cell_type": "markdown",
   "metadata": {},
   "source": [
    "### Nested Loops"
   ]
  },
  {
   "cell_type": "markdown",
   "metadata": {},
   "source": [
    "Using a nested loop means adding one loop into another loop."
   ]
  },
  {
   "cell_type": "code",
   "execution_count": 18,
   "metadata": {},
   "outputs": [
    {
     "name": "stdout",
     "output_type": "stream",
     "text": [
      "0, 0\n",
      "0, 1\n",
      "0, 2\n",
      "1, 0\n",
      "1, 1\n",
      "1, 2\n",
      "2, 0\n",
      "2, 1\n",
      "2, 2\n",
      "3, 0\n",
      "3, 1\n",
      "3, 2\n"
     ]
    }
   ],
   "source": [
    "for x in range(4):\n",
    "    for y in range(3):\n",
    "        print(f\"{x}, {y}\")"
   ]
  },
  {
   "cell_type": "markdown",
   "metadata": {},
   "source": [
    "### For Loop Exercise"
   ]
  },
  {
   "cell_type": "code",
   "execution_count": 24,
   "metadata": {},
   "outputs": [
    {
     "name": "stdout",
     "output_type": "stream",
     "text": [
      "xxxxx\n",
      "xx\n",
      "xxxxx\n",
      "xx\n",
      "xx\n"
     ]
    }
   ],
   "source": [
    "numbers = [5, 2, 5, 2, 2]\n",
    "for number in numbers:\n",
    "    print(number * \"x\")"
   ]
  },
  {
   "cell_type": "code",
   "execution_count": 25,
   "metadata": {},
   "outputs": [
    {
     "name": "stdout",
     "output_type": "stream",
     "text": [
      " xxxxx\n",
      " xx\n",
      " xxxxx\n",
      " xx\n",
      " xx\n"
     ]
    }
   ],
   "source": [
    "#Correct Code\n",
    "for item in  numbers:\n",
    "    output = \" \"\n",
    "    for count in range(item):\n",
    "        output += \"x\"\n",
    "    print(output)"
   ]
  },
  {
   "cell_type": "markdown",
   "metadata": {},
   "source": [
    "# Lists"
   ]
  },
  {
   "cell_type": "code",
   "execution_count": 30,
   "metadata": {},
   "outputs": [
    {
     "name": "stdout",
     "output_type": "stream",
     "text": [
      "['John', 'James', 'Bola']\n"
     ]
    }
   ],
   "source": [
    "names = [\"John\", \"James\", \"Bola\", \"Kola\", \"Mary\"]\n",
    "print(names[0:3])\n",
    "\n",
    "names[0]= \"Jon\"\n",
    "print(names)"
   ]
  },
  {
   "cell_type": "markdown",
   "metadata": {},
   "source": [
    "### Lists Exercise"
   ]
  },
  {
   "cell_type": "code",
   "execution_count": 35,
   "metadata": {},
   "outputs": [
    {
     "name": "stdout",
     "output_type": "stream",
     "text": [
      "20\n"
     ]
    }
   ],
   "source": [
    "list = [2, 3, 8, 4, 10, 20, 11]\n",
    "print(max(list))"
   ]
  },
  {
   "cell_type": "markdown",
   "metadata": {},
   "source": [
    "### 2Dimensional List"
   ]
  },
  {
   "cell_type": "code",
   "execution_count": 48,
   "metadata": {},
   "outputs": [
    {
     "data": {
      "text/plain": [
       "5"
      ]
     },
     "execution_count": 48,
     "metadata": {},
     "output_type": "execute_result"
    }
   ],
   "source": [
    "matrix = [\n",
    "    [1, 2, 3],\n",
    "    [4, 5, 6],\n",
    "    [7, 8, 9]\n",
    "]\n",
    "\n",
    "matrix[1][1]"
   ]
  },
  {
   "cell_type": "code",
   "execution_count": 53,
   "metadata": {},
   "outputs": [
    {
     "name": "stdout",
     "output_type": "stream",
     "text": [
      "1\n",
      "2\n",
      "3\n",
      "4\n",
      "5\n",
      "6\n",
      "7\n",
      "8\n",
      "9\n"
     ]
    }
   ],
   "source": [
    "for row in matrix:\n",
    "    for item in row:\n",
    "        print(item)"
   ]
  },
  {
   "cell_type": "markdown",
   "metadata": {},
   "source": [
    "### List Methods/Functions"
   ]
  },
  {
   "cell_type": "markdown",
   "metadata": {},
   "source": [
    "These are the operations that we can perform on a list."
   ]
  },
  {
   "cell_type": "code",
   "execution_count": 74,
   "metadata": {},
   "outputs": [],
   "source": [
    "numbers = [5, 2, 1, 7, 4]\n",
    "#To add a new item to the end of the list\n",
    "numbers.append(13)\n",
    "#To insert a new item into a particular position in the list\n",
    "numbers.insert(0, 10)\n",
    "# #To remove an item\n",
    "numbers.remove(5)\n",
    "#To remove the last item in a list\n",
    "numbers.pop()\n",
    "#To clear the list\n",
    "numbers.clear()\n",
    "#To check if an item exist in a list (Basically returns the index of the first occurrence)\n",
    "numbers.index(4)\n",
    "#To count number of occurences of an item\n",
    "numbers.count(5)\n",
    "#To sort the list\n",
    "numbers.sort()\n",
    "#To reverse the sort\n",
    "numbers.reverse()\n",
    "#To copy a list\n",
    "numbers.copy()"
   ]
  },
  {
   "cell_type": "markdown",
   "metadata": {},
   "source": [
    "### List Method Exercise (Removing Duplicates)"
   ]
  },
  {
   "cell_type": "code",
   "execution_count": 90,
   "metadata": {},
   "outputs": [],
   "source": [
    "num = [10, 10, 11, 12, 13, 14, 17, 16, 14, 15, 16, 17]"
   ]
  },
  {
   "cell_type": "code",
   "execution_count": 92,
   "metadata": {},
   "outputs": [
    {
     "name": "stdout",
     "output_type": "stream",
     "text": [
      "[10, 11, 12, 13, 14, 17, 16, 15]\n"
     ]
    }
   ],
   "source": [
    "#Here is the code that removes duplicates from a list\n",
    "uniques = []\n",
    "for number in num:\n",
    "    if number not in uniques:\n",
    "        uniques.append(number)\n",
    "print(uniques)"
   ]
  },
  {
   "cell_type": "markdown",
   "metadata": {},
   "source": [
    "# Tuples"
   ]
  },
  {
   "cell_type": "markdown",
   "metadata": {},
   "source": [
    "Tuples are similar to lists, we can use them to store a list of item but unlike lists, we cannot modify them. \"They are immutable\"."
   ]
  },
  {
   "cell_type": "code",
   "execution_count": 93,
   "metadata": {},
   "outputs": [],
   "source": [
    "numbers = (1,2,3,4,5)"
   ]
  },
  {
   "cell_type": "code",
   "execution_count": 94,
   "metadata": {},
   "outputs": [
    {
     "data": {
      "text/plain": [
       "4"
      ]
     },
     "execution_count": 94,
     "metadata": {},
     "output_type": "execute_result"
    }
   ],
   "source": [
    "numbers[3]"
   ]
  },
  {
   "cell_type": "markdown",
   "metadata": {},
   "source": [
    "### Unpacking works with both List & Tuples"
   ]
  },
  {
   "cell_type": "code",
   "execution_count": 95,
   "metadata": {},
   "outputs": [],
   "source": [
    "coordinates = (1, 2, 3)\n",
    "x,y,z = coordinates"
   ]
  },
  {
   "cell_type": "code",
   "execution_count": 98,
   "metadata": {},
   "outputs": [
    {
     "data": {
      "text/plain": [
       "3"
      ]
     },
     "execution_count": 98,
     "metadata": {},
     "output_type": "execute_result"
    }
   ],
   "source": [
    "z"
   ]
  },
  {
   "cell_type": "markdown",
   "metadata": {},
   "source": [
    "# Dictionaries"
   ]
  },
  {
   "cell_type": "markdown",
   "metadata": {},
   "source": [
    "Dictionaries are used to store information that come as key value pairs."
   ]
  },
  {
   "cell_type": "code",
   "execution_count": 1,
   "metadata": {},
   "outputs": [
    {
     "data": {
      "text/plain": [
       "'John Doe'"
      ]
     },
     "execution_count": 1,
     "metadata": {},
     "output_type": "execute_result"
    }
   ],
   "source": [
    "customers = {\n",
    "            \"name\":\"John Smith\",\n",
    "             \"age\":30,\n",
    "             \"is_verified\":True\n",
    "            }\n",
    "\n",
    "# customers[\"name\"]\n",
    "# customers.get(\"school\", \"unilag\")\n",
    "customers[\"name\"]=\"John Doe\"\n",
    "customers[\"name\"]"
   ]
  },
  {
   "cell_type": "markdown",
   "metadata": {},
   "source": [
    "### Digit Mapping with Dictionaries"
   ]
  },
  {
   "cell_type": "code",
   "execution_count": 7,
   "metadata": {},
   "outputs": [
    {
     "name": "stdout",
     "output_type": "stream",
     "text": [
      "Phone: 1345\n",
      "One Three Four Five \n"
     ]
    }
   ],
   "source": [
    "phone = input(\"Phone: \")\n",
    "digits_mapping = {\n",
    "    \"1\": \"One\",\n",
    "    \"2\": \"Two\",\n",
    "    \"3\": \"Three\",\n",
    "    \"4\": \"Four\",\n",
    "    \"5\": \"Five\",\n",
    "    \"6\": \"Six\",\n",
    "    \"7\": \"Seven\",\n",
    "    \"8\": \"Eight\",\n",
    "    \"9\": \"Nine\",\n",
    "    \"0\": \"Zero\"\n",
    "}\n",
    "\n",
    "output = \"\"\n",
    "for character in phone:\n",
    "    output += digits_mapping.get(character, \"!\") + \" \"\n",
    "print(output)"
   ]
  },
  {
   "cell_type": "markdown",
   "metadata": {},
   "source": [
    "# DEFINING FUNCTIONS"
   ]
  },
  {
   "cell_type": "markdown",
   "metadata": {},
   "source": [
    "When building large & complex programmes we should break up our codes into smaller re-usable chunks which we call functions to better organize our codes."
   ]
  },
  {
   "cell_type": "code",
   "execution_count": 12,
   "metadata": {},
   "outputs": [
    {
     "name": "stdout",
     "output_type": "stream",
     "text": [
      "Start\n",
      "Hi there!\n",
      "Welcome aboard\n",
      "Finish\n"
     ]
    }
   ],
   "source": [
    "def greet_user():\n",
    "    print(\"Hi there!\")\n",
    "    print(\"Welcome aboard\")\n",
    "    \n",
    "print(\"Start\")\n",
    "greet_user()\n",
    "print(\"Finish\")"
   ]
  },
  {
   "cell_type": "markdown",
   "metadata": {},
   "source": [
    "### Parameters in Functions"
   ]
  },
  {
   "cell_type": "code",
   "execution_count": 21,
   "metadata": {},
   "outputs": [
    {
     "name": "stdout",
     "output_type": "stream",
     "text": [
      "Hi John Doe\n",
      "Hi James Queen\n",
      "Hi Tony Stark\n"
     ]
    }
   ],
   "source": [
    "def greet(first_name, last_name):\n",
    "    print(f\"Hi {first_name} {last_name}\")\n",
    "\n",
    "greet('John', \"Doe\")\n",
    "greet(\"James\", \"Queen\")\n",
    "greet(\"Tony\", \"Start\")"
   ]
  },
  {
   "cell_type": "markdown",
   "metadata": {},
   "source": [
    "### Return Statement"
   ]
  },
  {
   "cell_type": "markdown",
   "metadata": {},
   "source": [
    "The return statement is useful when calculating in a function."
   ]
  },
  {
   "cell_type": "code",
   "execution_count": 29,
   "metadata": {},
   "outputs": [
    {
     "data": {
      "text/plain": [
       "9"
      ]
     },
     "execution_count": 29,
     "metadata": {},
     "output_type": "execute_result"
    }
   ],
   "source": [
    "def square(num):\n",
    "    return num * num\n",
    "\n",
    "square(3)"
   ]
  },
  {
   "cell_type": "markdown",
   "metadata": {},
   "source": [
    "## Lambda Function"
   ]
  },
  {
   "cell_type": "markdown",
   "metadata": {},
   "source": [
    "The lamda function is small anonymous function, it can take any number of arguments but can only have one expression."
   ]
  },
  {
   "cell_type": "code",
   "execution_count": 5,
   "metadata": {},
   "outputs": [
    {
     "name": "stdout",
     "output_type": "stream",
     "text": [
      "13\n"
     ]
    }
   ],
   "source": [
    "getSum = lambda num1, num2: num1 + num2\n",
    "result = getSum(10, 3)\n",
    "print(result)"
   ]
  },
  {
   "cell_type": "markdown",
   "metadata": {},
   "source": [
    "# Exceptions"
   ]
  },
  {
   "cell_type": "markdown",
   "metadata": {},
   "source": [
    "How to handle errors in python."
   ]
  },
  {
   "cell_type": "code",
   "execution_count": 37,
   "metadata": {},
   "outputs": [
    {
     "name": "stdout",
     "output_type": "stream",
     "text": [
      "Age: e\n",
      "Invalid value\n"
     ]
    }
   ],
   "source": [
    "try:\n",
    "    age = int(input(\"Age: \"))\n",
    "    print(age)\n",
    "except ValueError:\n",
    "    print(\"Invalid value\")"
   ]
  },
  {
   "cell_type": "markdown",
   "metadata": {},
   "source": [
    "### Handing different errors"
   ]
  },
  {
   "cell_type": "code",
   "execution_count": 43,
   "metadata": {},
   "outputs": [
    {
     "name": "stdout",
     "output_type": "stream",
     "text": [
      "Age: r\n",
      "Invalid value\n"
     ]
    }
   ],
   "source": [
    "try:\n",
    "    age = int(input(\"Age: \"))\n",
    "    income = 20000\n",
    "    risk = income /age\n",
    "    print(age)\n",
    "except ValueError:\n",
    "    print(\"Invalid value\")\n",
    "except ZeroDivisionError:\n",
    "    print(\"Age cannot be zero\")"
   ]
  },
  {
   "cell_type": "markdown",
   "metadata": {},
   "source": [
    "# Classes & Objects"
   ]
  },
  {
   "cell_type": "markdown",
   "metadata": {},
   "source": [
    "Classes are used to define new data types. The basic data types in python include - integers, strings, floats, booleans etc. Complex data types include - Lists, Set, Tuples, Dictionaries. While these types are extremely useful, they can not be used to model complex concepts. For example think of the concept of a point or a shopping card, they are different type of data type. We can use classes to define new types to model new concepts.\n",
    "\n",
    "An object is an instance of a class, a defines a blueprint or a template for creating objects. Object are the actual instances based on that blueprint. So we could have 10s or 100s of points on the screen, these are the objects or the instances. To create an object, type out the name of the class and then call it like a function, this creates a new object and then returns it. We can store an object in variable.\n",
    "\n",
    "A class is like a blueprint for creating objects. An object has properties and methods (functions) associated with it. Almost everything in python is an object."
   ]
  },
  {
   "cell_type": "code",
   "execution_count": 1,
   "metadata": {},
   "outputs": [
    {
     "data": {
      "text/plain": [
       "'My name is Ademola Badmus and I am 27'"
      ]
     },
     "execution_count": 1,
     "metadata": {},
     "output_type": "execute_result"
    }
   ],
   "source": [
    "class User:\n",
    "    def __init__(self, name, email, age):\n",
    "        self.name = name\n",
    "        self.email = email\n",
    "        self.age = age\n",
    "        \n",
    "    def greeting(self):\n",
    "        return f\"My name is {self.name} and I am {self.age}\"\n",
    "    \n",
    "brad = User(\"Ademola Badmus\", \"ademola@gmail.com\", 27)\n",
    "\n",
    "brad.greeting()"
   ]
  },
  {
   "cell_type": "code",
   "execution_count": 84,
   "metadata": {},
   "outputs": [
    {
     "name": "stdout",
     "output_type": "stream",
     "text": [
      "move\n"
     ]
    },
    {
     "data": {
      "text/plain": [
       "1"
      ]
     },
     "execution_count": 84,
     "metadata": {},
     "output_type": "execute_result"
    }
   ],
   "source": [
    "class Point:\n",
    "    def move(self):\n",
    "        print(\"move\")\n",
    "    \n",
    "    def draw(self):\n",
    "        print(\"draw\")\n",
    "        \n",
    "point1 = Point()\n",
    "point1.move()\n",
    "#Apart from methods, these objects can also have attributes and these attributes are like variables \n",
    "#that belong to a particular object\n",
    "point1.x = 10\n",
    "point1.y = 20\n",
    "point1.x\n",
    "point2 = Point()\n",
    "point2.x = 1\n",
    "point2.x\n",
    "#Recap: We use classes to define new types. These types can have methods that we defined in the body of the class\n",
    "#and they can also have attributes that they can set anywhere in the programme."
   ]
  },
  {
   "cell_type": "markdown",
   "metadata": {},
   "source": [
    "## Constructors"
   ]
  },
  {
   "cell_type": "markdown",
   "metadata": {},
   "source": [
    "A constructor is a function that get called at the time of creating an object."
   ]
  },
  {
   "cell_type": "code",
   "execution_count": 90,
   "metadata": {},
   "outputs": [
    {
     "name": "stdout",
     "output_type": "stream",
     "text": [
      "11\n"
     ]
    }
   ],
   "source": [
    "class Point:\n",
    "    def __init__(self, x, y):\n",
    "        self.x = x\n",
    "        self.y = y\n",
    "    \n",
    "    def move(self):\n",
    "        print(\"move\")\n",
    "    \n",
    "    def draw(self):\n",
    "        print(\"draw\")\n",
    "\n",
    "point = Point(10, 20)\n",
    "point.x = 11\n",
    "print(point.x)"
   ]
  },
  {
   "cell_type": "code",
   "execution_count": 107,
   "metadata": {},
   "outputs": [
    {
     "name": "stdout",
     "output_type": "stream",
     "text": [
      "Hi, I am John Smith\n",
      "Hi, I am Bob Smith\n"
     ]
    }
   ],
   "source": [
    "class Person:\n",
    "    def __init__(self,name):\n",
    "        self.name = name\n",
    "    def talk(self):\n",
    "        print(f\"Hi, I am {self.name}\")\n",
    "        \n",
    "        \n",
    "john = Person(\"John Smith\")\n",
    "john.talk()\n",
    "\n",
    "bob = Person(\"Bob Smith\")\n",
    "bob.talk()"
   ]
  },
  {
   "cell_type": "markdown",
   "metadata": {},
   "source": [
    "# INHERITANCE"
   ]
  },
  {
   "cell_type": "markdown",
   "metadata": {},
   "source": [
    "Inheritance is a mechanism for reusing code."
   ]
  },
  {
   "cell_type": "code",
   "execution_count": 2,
   "metadata": {},
   "outputs": [],
   "source": [
    "#In programming, do not define something twice.\n",
    "class Dog:\n",
    "    def walk(self):\n",
    "        print(\"walk\")\n",
    "        \n",
    "class Cat:\n",
    "    def walk(self):\n",
    "        print(\"walk\")"
   ]
  }
 ],
 "metadata": {
  "kernelspec": {
   "display_name": "Python 3",
   "language": "python",
   "name": "python3"
  },
  "language_info": {
   "codemirror_mode": {
    "name": "ipython",
    "version": 3
   },
   "file_extension": ".py",
   "mimetype": "text/x-python",
   "name": "python",
   "nbconvert_exporter": "python",
   "pygments_lexer": "ipython3",
   "version": "3.7.6"
  }
 },
 "nbformat": 4,
 "nbformat_minor": 4
}
